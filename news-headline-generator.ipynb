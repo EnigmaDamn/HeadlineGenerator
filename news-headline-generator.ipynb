{
 "cells": [
  {
   "cell_type": "markdown",
   "metadata": {},
   "source": [
    "# News Headline generation model using T5"
   ]
  },
  {
   "cell_type": "markdown",
   "metadata": {},
   "source": [
    "### Library used\n",
    "simpleT5: https://github.com/Shivanandroy/simpleT5\n"
   ]
  },
  {
   "cell_type": "code",
   "execution_count": 23,
   "metadata": {
    "_cell_guid": "b1076dfc-b9ad-4769-8c92-a6c4dae69d19",
    "_uuid": "8f2839f25d086af736a60e9eeb907d3b93b6e0e5",
    "execution": {
     "iopub.execute_input": "2022-06-17T13:04:38.610586Z",
     "iopub.status.busy": "2022-06-17T13:04:38.610240Z",
     "iopub.status.idle": "2022-06-17T13:04:38.623283Z",
     "shell.execute_reply": "2022-06-17T13:04:38.622364Z",
     "shell.execute_reply.started": "2022-06-17T13:04:38.610537Z"
    }
   },
   "outputs": [
    {
     "name": "stdout",
     "output_type": "stream",
     "text": [
      "/kaggle/input/news-summary/news_summary_more.csv\n",
      "/kaggle/input/news-summary/news_summary.csv\n"
     ]
    }
   ],
   "source": [
    "\n",
    "import numpy as np \n",
    "import pandas as pd\n",
    "from sklearn.model_selection import train_test_split\n",
    "import os\n",
    "\n",
    "for dirname, _, filenames in os.walk('/kaggle/input'):\n",
    "    for filename in filenames:\n",
    "        print(os.path.join(dirname, filename))"
   ]
  },
  {
   "cell_type": "code",
   "execution_count": 24,
   "metadata": {
    "execution": {
     "iopub.execute_input": "2022-06-17T13:04:38.662212Z",
     "iopub.status.busy": "2022-06-17T13:04:38.661907Z",
     "iopub.status.idle": "2022-06-17T13:04:38.665853Z",
     "shell.execute_reply": "2022-06-17T13:04:38.664941Z",
     "shell.execute_reply.started": "2022-06-17T13:04:38.662185Z"
    }
   },
   "outputs": [],
   "source": [
    "#! pip install simplet5 -q"
   ]
  },
  {
   "cell_type": "markdown",
   "metadata": {},
   "source": [
    "Uncomment this if simple5 is not installed"
   ]
  },
  {
   "cell_type": "markdown",
   "metadata": {},
   "source": [
    "# Read Input Dataset"
   ]
  },
  {
   "cell_type": "code",
   "execution_count": 25,
   "metadata": {
    "execution": {
     "iopub.execute_input": "2022-06-17T13:04:38.705870Z",
     "iopub.status.busy": "2022-06-17T13:04:38.705568Z",
     "iopub.status.idle": "2022-06-17T13:04:38.883350Z",
     "shell.execute_reply": "2022-06-17T13:04:38.882521Z",
     "shell.execute_reply.started": "2022-06-17T13:04:38.705841Z"
    }
   },
   "outputs": [],
   "source": [
    "df = pd.read_csv(\"../input/news-summary/news_summary.csv\", encoding='latin-1', usecols=['headlines', 'text'])"
   ]
  },
  {
   "cell_type": "code",
   "execution_count": 26,
   "metadata": {
    "execution": {
     "iopub.execute_input": "2022-06-17T13:04:38.886847Z",
     "iopub.status.busy": "2022-06-17T13:04:38.886585Z",
     "iopub.status.idle": "2022-06-17T13:04:38.897891Z",
     "shell.execute_reply": "2022-06-17T13:04:38.896841Z",
     "shell.execute_reply.started": "2022-06-17T13:04:38.886821Z"
    }
   },
   "outputs": [
    {
     "data": {
      "text/html": [
       "<div>\n",
       "<style scoped>\n",
       "    .dataframe tbody tr th:only-of-type {\n",
       "        vertical-align: middle;\n",
       "    }\n",
       "\n",
       "    .dataframe tbody tr th {\n",
       "        vertical-align: top;\n",
       "    }\n",
       "\n",
       "    .dataframe thead th {\n",
       "        text-align: right;\n",
       "    }\n",
       "</style>\n",
       "<table border=\"1\" class=\"dataframe\">\n",
       "  <thead>\n",
       "    <tr style=\"text-align: right;\">\n",
       "      <th></th>\n",
       "      <th>headlines</th>\n",
       "      <th>text</th>\n",
       "    </tr>\n",
       "  </thead>\n",
       "  <tbody>\n",
       "    <tr>\n",
       "      <th>0</th>\n",
       "      <td>Daman &amp; Diu revokes mandatory Rakshabandhan in...</td>\n",
       "      <td>The Administration of Union Territory Daman an...</td>\n",
       "    </tr>\n",
       "    <tr>\n",
       "      <th>1</th>\n",
       "      <td>Malaika slams user who trolled her for 'divorc...</td>\n",
       "      <td>Malaika Arora slammed an Instagram user who tr...</td>\n",
       "    </tr>\n",
       "    <tr>\n",
       "      <th>2</th>\n",
       "      <td>'Virgin' now corrected to 'Unmarried' in IGIMS...</td>\n",
       "      <td>The Indira Gandhi Institute of Medical Science...</td>\n",
       "    </tr>\n",
       "    <tr>\n",
       "      <th>3</th>\n",
       "      <td>Aaj aapne pakad liya: LeT man Dujana before be...</td>\n",
       "      <td>Lashkar-e-Taiba's Kashmir commander Abu Dujana...</td>\n",
       "    </tr>\n",
       "    <tr>\n",
       "      <th>4</th>\n",
       "      <td>Hotel staff to get training to spot signs of s...</td>\n",
       "      <td>Hotels in Maharashtra will train their staff t...</td>\n",
       "    </tr>\n",
       "  </tbody>\n",
       "</table>\n",
       "</div>"
      ],
      "text/plain": [
       "                                           headlines  \\\n",
       "0  Daman & Diu revokes mandatory Rakshabandhan in...   \n",
       "1  Malaika slams user who trolled her for 'divorc...   \n",
       "2  'Virgin' now corrected to 'Unmarried' in IGIMS...   \n",
       "3  Aaj aapne pakad liya: LeT man Dujana before be...   \n",
       "4  Hotel staff to get training to spot signs of s...   \n",
       "\n",
       "                                                text  \n",
       "0  The Administration of Union Territory Daman an...  \n",
       "1  Malaika Arora slammed an Instagram user who tr...  \n",
       "2  The Indira Gandhi Institute of Medical Science...  \n",
       "3  Lashkar-e-Taiba's Kashmir commander Abu Dujana...  \n",
       "4  Hotels in Maharashtra will train their staff t...  "
      ]
     },
     "execution_count": 26,
     "metadata": {},
     "output_type": "execute_result"
    }
   ],
   "source": [
    "df.head()"
   ]
  },
  {
   "cell_type": "markdown",
   "metadata": {},
   "source": [
    "# T5 Data Preparation with Training Data Column Names - `source_text` & `target_text`"
   ]
  },
  {
   "cell_type": "code",
   "execution_count": 27,
   "metadata": {
    "execution": {
     "iopub.execute_input": "2022-06-17T13:04:38.900844Z",
     "iopub.status.busy": "2022-06-17T13:04:38.900166Z",
     "iopub.status.idle": "2022-06-17T13:04:38.908531Z",
     "shell.execute_reply": "2022-06-17T13:04:38.907613Z",
     "shell.execute_reply.started": "2022-06-17T13:04:38.900804Z"
    }
   },
   "outputs": [],
   "source": [
    "df = df.rename(columns={\"headlines\":\"target_text\", \"text\":\"source_text\"})\n",
    "df = df[['source_text', 'target_text']]\n"
   ]
  },
  {
   "cell_type": "code",
   "execution_count": 28,
   "metadata": {
    "execution": {
     "iopub.execute_input": "2022-06-17T13:04:38.910652Z",
     "iopub.status.busy": "2022-06-17T13:04:38.910280Z",
     "iopub.status.idle": "2022-06-17T13:04:38.924428Z",
     "shell.execute_reply": "2022-06-17T13:04:38.923250Z",
     "shell.execute_reply.started": "2022-06-17T13:04:38.910617Z"
    }
   },
   "outputs": [
    {
     "data": {
      "text/html": [
       "<div>\n",
       "<style scoped>\n",
       "    .dataframe tbody tr th:only-of-type {\n",
       "        vertical-align: middle;\n",
       "    }\n",
       "\n",
       "    .dataframe tbody tr th {\n",
       "        vertical-align: top;\n",
       "    }\n",
       "\n",
       "    .dataframe thead th {\n",
       "        text-align: right;\n",
       "    }\n",
       "</style>\n",
       "<table border=\"1\" class=\"dataframe\">\n",
       "  <thead>\n",
       "    <tr style=\"text-align: right;\">\n",
       "      <th></th>\n",
       "      <th>source_text</th>\n",
       "      <th>target_text</th>\n",
       "    </tr>\n",
       "  </thead>\n",
       "  <tbody>\n",
       "    <tr>\n",
       "      <th>0</th>\n",
       "      <td>The Administration of Union Territory Daman an...</td>\n",
       "      <td>Daman &amp; Diu revokes mandatory Rakshabandhan in...</td>\n",
       "    </tr>\n",
       "    <tr>\n",
       "      <th>1</th>\n",
       "      <td>Malaika Arora slammed an Instagram user who tr...</td>\n",
       "      <td>Malaika slams user who trolled her for 'divorc...</td>\n",
       "    </tr>\n",
       "    <tr>\n",
       "      <th>2</th>\n",
       "      <td>The Indira Gandhi Institute of Medical Science...</td>\n",
       "      <td>'Virgin' now corrected to 'Unmarried' in IGIMS...</td>\n",
       "    </tr>\n",
       "    <tr>\n",
       "      <th>3</th>\n",
       "      <td>Lashkar-e-Taiba's Kashmir commander Abu Dujana...</td>\n",
       "      <td>Aaj aapne pakad liya: LeT man Dujana before be...</td>\n",
       "    </tr>\n",
       "    <tr>\n",
       "      <th>4</th>\n",
       "      <td>Hotels in Maharashtra will train their staff t...</td>\n",
       "      <td>Hotel staff to get training to spot signs of s...</td>\n",
       "    </tr>\n",
       "  </tbody>\n",
       "</table>\n",
       "</div>"
      ],
      "text/plain": [
       "                                         source_text  \\\n",
       "0  The Administration of Union Territory Daman an...   \n",
       "1  Malaika Arora slammed an Instagram user who tr...   \n",
       "2  The Indira Gandhi Institute of Medical Science...   \n",
       "3  Lashkar-e-Taiba's Kashmir commander Abu Dujana...   \n",
       "4  Hotels in Maharashtra will train their staff t...   \n",
       "\n",
       "                                         target_text  \n",
       "0  Daman & Diu revokes mandatory Rakshabandhan in...  \n",
       "1  Malaika slams user who trolled her for 'divorc...  \n",
       "2  'Virgin' now corrected to 'Unmarried' in IGIMS...  \n",
       "3  Aaj aapne pakad liya: LeT man Dujana before be...  \n",
       "4  Hotel staff to get training to spot signs of s...  "
      ]
     },
     "execution_count": 28,
     "metadata": {},
     "output_type": "execute_result"
    }
   ],
   "source": [
    "df.head()"
   ]
  },
  {
   "cell_type": "code",
   "execution_count": 29,
   "metadata": {
    "execution": {
     "iopub.execute_input": "2022-06-17T13:04:38.926537Z",
     "iopub.status.busy": "2022-06-17T13:04:38.926115Z",
     "iopub.status.idle": "2022-06-17T13:04:38.947398Z",
     "shell.execute_reply": "2022-06-17T13:04:38.946517Z",
     "shell.execute_reply.started": "2022-06-17T13:04:38.926501Z"
    }
   },
   "outputs": [
    {
     "data": {
      "text/html": [
       "<div>\n",
       "<style scoped>\n",
       "    .dataframe tbody tr th:only-of-type {\n",
       "        vertical-align: middle;\n",
       "    }\n",
       "\n",
       "    .dataframe tbody tr th {\n",
       "        vertical-align: top;\n",
       "    }\n",
       "\n",
       "    .dataframe thead th {\n",
       "        text-align: right;\n",
       "    }\n",
       "</style>\n",
       "<table border=\"1\" class=\"dataframe\">\n",
       "  <thead>\n",
       "    <tr style=\"text-align: right;\">\n",
       "      <th></th>\n",
       "      <th>source_text</th>\n",
       "      <th>target_text</th>\n",
       "    </tr>\n",
       "  </thead>\n",
       "  <tbody>\n",
       "    <tr>\n",
       "      <th>0</th>\n",
       "      <td>summarize: The Administration of Union Territo...</td>\n",
       "      <td>Daman &amp; Diu revokes mandatory Rakshabandhan in...</td>\n",
       "    </tr>\n",
       "    <tr>\n",
       "      <th>1</th>\n",
       "      <td>summarize: Malaika Arora slammed an Instagram ...</td>\n",
       "      <td>Malaika slams user who trolled her for 'divorc...</td>\n",
       "    </tr>\n",
       "    <tr>\n",
       "      <th>2</th>\n",
       "      <td>summarize: The Indira Gandhi Institute of Medi...</td>\n",
       "      <td>'Virgin' now corrected to 'Unmarried' in IGIMS...</td>\n",
       "    </tr>\n",
       "    <tr>\n",
       "      <th>3</th>\n",
       "      <td>summarize: Lashkar-e-Taiba's Kashmir commander...</td>\n",
       "      <td>Aaj aapne pakad liya: LeT man Dujana before be...</td>\n",
       "    </tr>\n",
       "    <tr>\n",
       "      <th>4</th>\n",
       "      <td>summarize: Hotels in Maharashtra will train th...</td>\n",
       "      <td>Hotel staff to get training to spot signs of s...</td>\n",
       "    </tr>\n",
       "    <tr>\n",
       "      <th>...</th>\n",
       "      <td>...</td>\n",
       "      <td>...</td>\n",
       "    </tr>\n",
       "    <tr>\n",
       "      <th>4509</th>\n",
       "      <td>summarize: Fruit juice concentrate maker Rasna...</td>\n",
       "      <td>Rasna seeking ?250 cr revenue from snack categ...</td>\n",
       "    </tr>\n",
       "    <tr>\n",
       "      <th>4510</th>\n",
       "      <td>summarize: Former Indian cricketer Sachin Tend...</td>\n",
       "      <td>Sachin attends Rajya Sabha after questions on ...</td>\n",
       "    </tr>\n",
       "    <tr>\n",
       "      <th>4511</th>\n",
       "      <td>summarize: Aamir Khan, while talking about rea...</td>\n",
       "      <td>Shouldn't rob their childhood: Aamir on kids r...</td>\n",
       "    </tr>\n",
       "    <tr>\n",
       "      <th>4512</th>\n",
       "      <td>summarize: The Maharashtra government has init...</td>\n",
       "      <td>Asha Bhosle gets ?53,000 power bill for unused...</td>\n",
       "    </tr>\n",
       "    <tr>\n",
       "      <th>4513</th>\n",
       "      <td>summarize: At least 400 languages or more than...</td>\n",
       "      <td>More than half of India's languages may die in...</td>\n",
       "    </tr>\n",
       "  </tbody>\n",
       "</table>\n",
       "<p>4514 rows × 2 columns</p>\n",
       "</div>"
      ],
      "text/plain": [
       "                                            source_text  \\\n",
       "0     summarize: The Administration of Union Territo...   \n",
       "1     summarize: Malaika Arora slammed an Instagram ...   \n",
       "2     summarize: The Indira Gandhi Institute of Medi...   \n",
       "3     summarize: Lashkar-e-Taiba's Kashmir commander...   \n",
       "4     summarize: Hotels in Maharashtra will train th...   \n",
       "...                                                 ...   \n",
       "4509  summarize: Fruit juice concentrate maker Rasna...   \n",
       "4510  summarize: Former Indian cricketer Sachin Tend...   \n",
       "4511  summarize: Aamir Khan, while talking about rea...   \n",
       "4512  summarize: The Maharashtra government has init...   \n",
       "4513  summarize: At least 400 languages or more than...   \n",
       "\n",
       "                                            target_text  \n",
       "0     Daman & Diu revokes mandatory Rakshabandhan in...  \n",
       "1     Malaika slams user who trolled her for 'divorc...  \n",
       "2     'Virgin' now corrected to 'Unmarried' in IGIMS...  \n",
       "3     Aaj aapne pakad liya: LeT man Dujana before be...  \n",
       "4     Hotel staff to get training to spot signs of s...  \n",
       "...                                                 ...  \n",
       "4509  Rasna seeking ?250 cr revenue from snack categ...  \n",
       "4510  Sachin attends Rajya Sabha after questions on ...  \n",
       "4511  Shouldn't rob their childhood: Aamir on kids r...  \n",
       "4512  Asha Bhosle gets ?53,000 power bill for unused...  \n",
       "4513  More than half of India's languages may die in...  \n",
       "\n",
       "[4514 rows x 2 columns]"
      ]
     },
     "execution_count": 29,
     "metadata": {},
     "output_type": "execute_result"
    }
   ],
   "source": [
    "# T5 model expects a task related prefix: since it is a summarization task, we will add a prefix \"summarize: \"\n",
    "df['source_text'] = \"summarize: \" + df['source_text']\n",
    "df"
   ]
  },
  {
   "cell_type": "code",
   "execution_count": 30,
   "metadata": {
    "execution": {
     "iopub.execute_input": "2022-06-17T13:04:38.949949Z",
     "iopub.status.busy": "2022-06-17T13:04:38.949507Z",
     "iopub.status.idle": "2022-06-17T13:04:38.959633Z",
     "shell.execute_reply": "2022-06-17T13:04:38.958636Z",
     "shell.execute_reply.started": "2022-06-17T13:04:38.949913Z"
    }
   },
   "outputs": [
    {
     "data": {
      "text/plain": [
       "((3159, 2), (1355, 2))"
      ]
     },
     "execution_count": 30,
     "metadata": {},
     "output_type": "execute_result"
    }
   ],
   "source": [
    "train_df, test_df = train_test_split(df, test_size=0.3)\n",
    "train_df.shape, test_df.shape"
   ]
  },
  {
   "cell_type": "markdown",
   "metadata": {},
   "source": [
    "# Using SimpleT5 for Model Training - Instantiate, Download Pre-trained Model"
   ]
  },
  {
   "cell_type": "code",
   "execution_count": 31,
   "metadata": {
    "execution": {
     "iopub.execute_input": "2022-06-17T13:04:38.987261Z",
     "iopub.status.busy": "2022-06-17T13:04:38.986981Z",
     "iopub.status.idle": "2022-06-17T13:04:48.073655Z",
     "shell.execute_reply": "2022-06-17T13:04:48.072772Z",
     "shell.execute_reply.started": "2022-06-17T13:04:38.987235Z"
    }
   },
   "outputs": [],
   "source": [
    "from simplet5 import SimpleT5\n",
    "\n",
    "model = SimpleT5()\n",
    "model.from_pretrained(model_type=\"t5\", model_name=\"t5-base\")\n"
   ]
  },
  {
   "cell_type": "markdown",
   "metadata": {},
   "source": [
    "# Model Training"
   ]
  },
  {
   "cell_type": "code",
   "execution_count": 32,
   "metadata": {
    "execution": {
     "iopub.execute_input": "2022-06-17T13:04:48.075511Z",
     "iopub.status.busy": "2022-06-17T13:04:48.075176Z",
     "iopub.status.idle": "2022-06-17T13:11:13.334490Z",
     "shell.execute_reply": "2022-06-17T13:11:13.333519Z",
     "shell.execute_reply.started": "2022-06-17T13:04:48.075474Z"
    }
   },
   "outputs": [
    {
     "data": {
      "application/vnd.jupyter.widget-view+json": {
       "model_id": "",
       "version_major": 2,
       "version_minor": 0
      },
      "text/plain": [
       "Validation sanity check: 0it [00:00, ?it/s]"
      ]
     },
     "metadata": {},
     "output_type": "display_data"
    },
    {
     "data": {
      "application/vnd.jupyter.widget-view+json": {
       "model_id": "21087bfaf57f47bebe5deda49ea62710",
       "version_major": 2,
       "version_minor": 0
      },
      "text/plain": [
       "Training: 0it [00:00, ?it/s]"
      ]
     },
     "metadata": {},
     "output_type": "display_data"
    },
    {
     "data": {
      "application/vnd.jupyter.widget-view+json": {
       "model_id": "",
       "version_major": 2,
       "version_minor": 0
      },
      "text/plain": [
       "Validating: 0it [00:00, ?it/s]"
      ]
     },
     "metadata": {},
     "output_type": "display_data"
    },
    {
     "data": {
      "application/vnd.jupyter.widget-view+json": {
       "model_id": "",
       "version_major": 2,
       "version_minor": 0
      },
      "text/plain": [
       "Validating: 0it [00:00, ?it/s]"
      ]
     },
     "metadata": {},
     "output_type": "display_data"
    },
    {
     "data": {
      "application/vnd.jupyter.widget-view+json": {
       "model_id": "",
       "version_major": 2,
       "version_minor": 0
      },
      "text/plain": [
       "Validating: 0it [00:00, ?it/s]"
      ]
     },
     "metadata": {},
     "output_type": "display_data"
    }
   ],
   "source": [
    "model.train(train_df=train_df,\n",
    "            eval_df=test_df, \n",
    "            source_max_token_len=128, \n",
    "            target_max_token_len=50, \n",
    "            batch_size=8, \n",
    "            max_epochs=3, \n",
    "            use_gpu=True\n",
    "           )"
   ]
  },
  {
   "cell_type": "markdown",
   "metadata": {},
   "source": [
    "# List of all the trained models"
   ]
  },
  {
   "cell_type": "code",
   "execution_count": 36,
   "metadata": {
    "execution": {
     "iopub.execute_input": "2022-06-17T13:27:53.060980Z",
     "iopub.status.busy": "2022-06-17T13:27:53.060623Z",
     "iopub.status.idle": "2022-06-17T13:27:53.966124Z",
     "shell.execute_reply": "2022-06-17T13:27:53.965166Z",
     "shell.execute_reply.started": "2022-06-17T13:27:53.060939Z"
    }
   },
   "outputs": [
    {
     "name": "stdout",
     "output_type": "stream",
     "text": [
      "simplet5-epoch-0-train-loss-1.5659-val-loss-1.2959\n",
      "simplet5-epoch-0-train-loss-1.5824-val-loss-1.2673\n",
      "simplet5-epoch-1-train-loss-1.1468-val-loss-1.2883\n",
      "simplet5-epoch-1-train-loss-1.1642-val-loss-1.2329\n",
      "simplet5-epoch-2-train-loss-0.9164-val-loss-1.3125\n",
      "simplet5-epoch-2-train-loss-0.9309-val-loss-1.2804\n"
     ]
    }
   ],
   "source": [
    "! ( cd outputs; ls )"
   ]
  },
  {
   "cell_type": "code",
   "execution_count": 44,
   "metadata": {
    "execution": {
     "iopub.execute_input": "2022-06-17T14:21:50.512461Z",
     "iopub.status.busy": "2022-06-17T14:21:50.512002Z",
     "iopub.status.idle": "2022-06-17T14:22:47.381920Z",
     "shell.execute_reply": "2022-06-17T14:22:47.380302Z",
     "shell.execute_reply.started": "2022-06-17T14:21:50.512421Z"
    }
   },
   "outputs": [
    {
     "name": "stdout",
     "output_type": "stream",
     "text": [
      "  adding: outputs/simplet5-epoch-2-train-loss-0.9309-val-loss-1.2804/ (stored 0%)\n",
      "  adding: outputs/simplet5-epoch-2-train-loss-0.9309-val-loss-1.2804/pytorch_model.bin (deflated 8%)\n",
      "  adding: outputs/simplet5-epoch-2-train-loss-0.9309-val-loss-1.2804/special_tokens_map.json (deflated 83%)\n",
      "  adding: outputs/simplet5-epoch-2-train-loss-0.9309-val-loss-1.2804/tokenizer_config.json (deflated 80%)\n",
      "  adding: outputs/simplet5-epoch-2-train-loss-0.9309-val-loss-1.2804/tokenizer.json (deflated 59%)\n",
      "  adding: outputs/simplet5-epoch-2-train-loss-0.9309-val-loss-1.2804/config.json (deflated 63%)\n",
      "  adding: outputs/simplet5-epoch-2-train-loss-0.9309-val-loss-1.2804/spiece.model (deflated 48%)\n"
     ]
    }
   ],
   "source": [
    "#If you want to save the model locally zip it and download the file. pytorch_model.bin\n",
    "#!(zip -r ngga.zip ./outputs/simplet5-epoch-2-train-loss-0.9309-val-loss-1.2804)"
   ]
  },
  {
   "cell_type": "markdown",
   "metadata": {},
   "source": [
    "# Selecting the model"
   ]
  },
  {
   "cell_type": "code",
   "execution_count": 34,
   "metadata": {
    "execution": {
     "iopub.execute_input": "2022-06-17T13:12:45.804748Z",
     "iopub.status.busy": "2022-06-17T13:12:45.804231Z",
     "iopub.status.idle": "2022-06-17T13:12:51.165296Z",
     "shell.execute_reply": "2022-06-17T13:12:51.164303Z",
     "shell.execute_reply.started": "2022-06-17T13:12:45.804706Z"
    }
   },
   "outputs": [],
   "source": [
    "# Every time a new model will be trained. Make sure to change the model.\n",
    "model.load_model(\"t5\",\"outputs/simplet5-epoch-2-train-loss-0.9309-val-loss-1.2804\", use_gpu=True)"
   ]
  },
  {
   "cell_type": "markdown",
   "metadata": {},
   "source": [
    "# Results"
   ]
  },
  {
   "cell_type": "code",
   "execution_count": 57,
   "metadata": {
    "execution": {
     "iopub.execute_input": "2022-06-17T15:13:23.033478Z",
     "iopub.status.busy": "2022-06-17T15:13:23.033070Z",
     "iopub.status.idle": "2022-06-17T15:13:23.368518Z",
     "shell.execute_reply": "2022-06-17T15:13:23.367660Z",
     "shell.execute_reply.started": "2022-06-17T15:13:23.033437Z"
    }
   },
   "outputs": [
    {
     "data": {
      "text/plain": [
       "['Carts set on fire during protest over Prophet Mohammad']"
      ]
     },
     "execution_count": 57,
     "metadata": {},
     "output_type": "execute_result"
    }
   ],
   "source": [
    "text_to_summarize=\"\"\"Carts set on fire by miscreants during a protest in Ranchi over controversial remarks on Prophet Muhammad (PTI photo)An uneasy calm prevailed in Jharkhand’s Ranchi on Saturday, less than 24 hours after a protest against suspended BJP spokesperson Nupur Sharma’s inflammatory remarks on Prophet Mohammad turned violent.\n",
    "No violent incident has been reported in Ranchi after irate protesters swept through parts of the city on Friday, pelting stones and committing arson.\n",
    "Demonstrators bearing placards and shouting slogans demanded the BJP leader’s arrest for her controversial remarks on Prophet Mohammad.\"\"\"\n",
    "model.predict(text_to_summarize)"
   ]
  },
  {
   "cell_type": "markdown",
   "metadata": {},
   "source": [
    "# Using Newspaper 3k to get news summary"
   ]
  },
  {
   "cell_type": "code",
   "execution_count": 54,
   "metadata": {
    "execution": {
     "iopub.execute_input": "2022-06-17T15:12:42.673705Z",
     "iopub.status.busy": "2022-06-17T15:12:42.673356Z",
     "iopub.status.idle": "2022-06-17T15:12:43.074099Z",
     "shell.execute_reply": "2022-06-17T15:12:43.073274Z",
     "shell.execute_reply.started": "2022-06-17T15:12:42.673675Z"
    }
   },
   "outputs": [],
   "source": [
    "#pip install newspaper3k"
   ]
  },
  {
   "cell_type": "code",
   "execution_count": 58,
   "metadata": {
    "execution": {
     "iopub.execute_input": "2022-06-17T15:16:30.625115Z",
     "iopub.status.busy": "2022-06-17T15:16:30.624693Z",
     "iopub.status.idle": "2022-06-17T15:16:38.686631Z",
     "shell.execute_reply": "2022-06-17T15:16:38.685807Z",
     "shell.execute_reply.started": "2022-06-17T15:16:30.625075Z"
    }
   },
   "outputs": [
    {
     "name": "stdin",
     "output_type": "stream",
     "text": [
      "Enter:  https://www.ndtv.com/india-news/agnipath-protests-1-dead-over-15-injured-in-telanganas-secunderabad-3075437\n"
     ]
    }
   ],
   "source": [
    "url = input(\"Enter: \")"
   ]
  },
  {
   "cell_type": "code",
   "execution_count": 61,
   "metadata": {
    "execution": {
     "iopub.execute_input": "2022-06-17T15:17:11.214967Z",
     "iopub.status.busy": "2022-06-17T15:17:11.214638Z",
     "iopub.status.idle": "2022-06-17T15:17:11.588402Z",
     "shell.execute_reply": "2022-06-17T15:17:11.587610Z",
     "shell.execute_reply.started": "2022-06-17T15:17:11.214939Z"
    }
   },
   "outputs": [],
   "source": [
    "from newspaper import Article    \n",
    "article = Article(url)\n",
    "article.download()\n",
    "article.parse()\n",
    "article.nlp()\n",
    "g = article.summary"
   ]
  },
  {
   "cell_type": "code",
   "execution_count": 63,
   "metadata": {
    "execution": {
     "iopub.execute_input": "2022-06-17T15:17:29.716513Z",
     "iopub.status.busy": "2022-06-17T15:17:29.716197Z",
     "iopub.status.idle": "2022-06-17T15:17:30.036673Z",
     "shell.execute_reply": "2022-06-17T15:17:30.035837Z",
     "shell.execute_reply.started": "2022-06-17T15:17:29.716483Z"
    }
   },
   "outputs": [
    {
     "data": {
      "text/plain": [
       "['Telangana teenager killed as police fire at angry mob']"
      ]
     },
     "execution_count": 63,
     "metadata": {},
     "output_type": "execute_result"
    }
   ],
   "source": [
    "model.predict(g)"
   ]
  },
  {
   "cell_type": "code",
   "execution_count": null,
   "metadata": {},
   "outputs": [],
   "source": []
  }
 ],
 "metadata": {
  "kernelspec": {
   "display_name": "Python 3 (ipykernel)",
   "language": "python",
   "name": "python3"
  },
  "language_info": {
   "codemirror_mode": {
    "name": "ipython",
    "version": 3
   },
   "file_extension": ".py",
   "mimetype": "text/x-python",
   "name": "python",
   "nbconvert_exporter": "python",
   "pygments_lexer": "ipython3",
   "version": "3.9.12"
  }
 },
 "nbformat": 4,
 "nbformat_minor": 4
}
